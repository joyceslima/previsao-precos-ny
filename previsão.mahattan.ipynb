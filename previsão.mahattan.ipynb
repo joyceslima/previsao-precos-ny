{
 "cells": [
  {
   "cell_type": "code",
   "execution_count": 3,
   "metadata": {},
   "outputs": [],
   "source": [
    "import pickle\n",
    "import pandas as pd"
   ]
  },
  {
   "cell_type": "markdown",
   "metadata": {},
   "source": [
    "### Supondo um apartamento com as seguintes características, qual seria a sugestão de preço?\n",
    "\n",
    "{'id': 2595,\n",
    " 'nome': 'Skylit Midtown Castle',\n",
    " 'host_id': 2845,\n",
    " 'host_name': 'Jennifer',\n",
    " 'bairro_group': 'Manhattan',\n",
    " 'bairro': 'Midtown',\n",
    " 'latitude': 40.75362,\n",
    " 'longitude': -73.98377,\n",
    " 'room_type': 'Entire home/apt',\n",
    " 'minimo_noites': 1,\n",
    " 'numero_de_reviews': 45,\n",
    " 'ultima_review': '2019-05-21',\n",
    " 'reviews_por_mes': 0.38,\n",
    " 'calculado_host_listings_count': 2,\n",
    " 'disponibilidade_365': 355}\n"
   ]
  },
  {
   "cell_type": "code",
   "execution_count": null,
   "metadata": {},
   "outputs": [],
   "source": [
    "#carregar as caracteristicas do imóvel\n",
    "novo_imovel = pd.DataFrame([{\n",
    "    'id': 2595,\n",
    "    'nome': 'Skylit Midtown Castle',\n",
    "    'id_anfitriao': 2845,\n",
    "    'nome_anfitriao': 'Jennifer',\n",
    "    'grupo_bairros': 'Manhattan',\n",
    "    'bairro': 'Midtown',\n",
    "    'latitude': 40.75362,\n",
    "    'longitude': -73.98377,\n",
    "    'tipo_acomodacao': 'Entire home/apt',\n",
    "    'minimo_noites': 1,\n",
    "    'numero_de_reviews': 45,\n",
    "    'ultima_review': '2019-05-21',\n",
    "    'reviews_por_mes': 0.38,\n",
    "    'quantidade_calculada_anuncio_anfitrião': 2,\n",
    "    'disponibilidade_365': 355\n",
    "}])"
   ]
  },
  {
   "cell_type": "code",
   "execution_count": null,
   "metadata": {},
   "outputs": [
    {
     "name": "stdout",
     "output_type": "stream",
     "text": [
      "Preço previsto: $281.80\n"
     ]
    }
   ],
   "source": [
    "# Carregar o modelo salvo\n",
    "with open(\"modelo_precos.pkl\", \"rb\") as arquivo:\n",
    "    modelo = pickle.load(arquivo)\n",
    "\n",
    "# Garante que as colunas do novo imóvel estejam na mesma ordem do treinamento\n",
    "#colunas_modelo = modelo.feature_names_in_  # Pega as colunas usadas no treinamento, evitando que colunas extras apareçam ou faltem\n",
    "#novo_imovel = novo_imovel[colunas_modelo]  # Reordena e garante que não há colunas extras\n",
    "\n",
    "# Prever o preço do apartamento\n",
    "previsao = modelo.predict(novo_imovel)\n",
    "\n",
    "print(f\"Preço previsto: ${previsao[0]:.2f}\")"
   ]
  }
 ],
 "metadata": {
  "kernelspec": {
   "display_name": "Python 3",
   "language": "python",
   "name": "python3"
  },
  "language_info": {
   "codemirror_mode": {
    "name": "ipython",
    "version": 3
   },
   "file_extension": ".py",
   "mimetype": "text/x-python",
   "name": "python",
   "nbconvert_exporter": "python",
   "pygments_lexer": "ipython3",
   "version": "3.12.3"
  }
 },
 "nbformat": 4,
 "nbformat_minor": 2
}
